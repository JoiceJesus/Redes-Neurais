{
  "nbformat": 4,
  "nbformat_minor": 0,
  "metadata": {
    "colab": {
      "provenance": [],
      "mount_file_id": "1xH8nz5i_avYQSe_T3LF135JZVg3vHDrO",
      "authorship_tag": "ABX9TyNTBXYa5jaG/KhrZIEcdIWO",
      "include_colab_link": true
    },
    "kernelspec": {
      "name": "python3",
      "display_name": "Python 3"
    },
    "language_info": {
      "name": "python"
    }
  },
  "cells": [
    {
      "cell_type": "markdown",
      "metadata": {
        "id": "view-in-github",
        "colab_type": "text"
      },
      "source": [
        "<a href=\"https://colab.research.google.com/github/JoiceJesus/Redes-Neurais/blob/main/RedesNeuraiscomTensorfloweKeras.ipynb\" target=\"_parent\"><img src=\"https://colab.research.google.com/assets/colab-badge.svg\" alt=\"Open In Colab\"/></a>"
      ]
    },
    {
      "cell_type": "markdown",
      "source": [
        "//Joice de Jesus  2021.1\n",
        "\n",
        "Atividade 3 Inteligência Artificial"
      ],
      "metadata": {
        "id": "IX2jPrKz_PDi"
      }
    },
    {
      "cell_type": "code",
      "source": [
        "#Carregando Dados para utilizar na rede\n",
        "import pandas as pd\n",
        "\n",
        "dataset = pd.read_csv(\"https://raw.githubusercontent.com/ect-info/ml/master/dados/Social_Network_Ads.csv\")\n",
        "dataset.head(10) "
      ],
      "metadata": {
        "colab": {
          "base_uri": "https://localhost:8080/",
          "height": 363
        },
        "id": "VbIIMtov_OGE",
        "outputId": "a44134dd-6270-4f1e-dd80-97bacad3dc5e"
      },
      "execution_count": 8,
      "outputs": [
        {
          "output_type": "execute_result",
          "data": {
            "text/plain": [
              "    User ID  Gender  Age  EstimatedSalary  Purchased\n",
              "0  15624510    Male   19            19000          0\n",
              "1  15810944    Male   35            20000          0\n",
              "2  15668575  Female   26            43000          0\n",
              "3  15603246  Female   27            57000          0\n",
              "4  15804002    Male   19            76000          0\n",
              "5  15728773    Male   27            58000          0\n",
              "6  15598044  Female   27            84000          0\n",
              "7  15694829  Female   32           150000          1\n",
              "8  15600575    Male   25            33000          0\n",
              "9  15727311  Female   35            65000          0"
            ],
            "text/html": [
              "\n",
              "  <div id=\"df-3c88d4b4-2c7d-49a8-957b-431163064829\">\n",
              "    <div class=\"colab-df-container\">\n",
              "      <div>\n",
              "<style scoped>\n",
              "    .dataframe tbody tr th:only-of-type {\n",
              "        vertical-align: middle;\n",
              "    }\n",
              "\n",
              "    .dataframe tbody tr th {\n",
              "        vertical-align: top;\n",
              "    }\n",
              "\n",
              "    .dataframe thead th {\n",
              "        text-align: right;\n",
              "    }\n",
              "</style>\n",
              "<table border=\"1\" class=\"dataframe\">\n",
              "  <thead>\n",
              "    <tr style=\"text-align: right;\">\n",
              "      <th></th>\n",
              "      <th>User ID</th>\n",
              "      <th>Gender</th>\n",
              "      <th>Age</th>\n",
              "      <th>EstimatedSalary</th>\n",
              "      <th>Purchased</th>\n",
              "    </tr>\n",
              "  </thead>\n",
              "  <tbody>\n",
              "    <tr>\n",
              "      <th>0</th>\n",
              "      <td>15624510</td>\n",
              "      <td>Male</td>\n",
              "      <td>19</td>\n",
              "      <td>19000</td>\n",
              "      <td>0</td>\n",
              "    </tr>\n",
              "    <tr>\n",
              "      <th>1</th>\n",
              "      <td>15810944</td>\n",
              "      <td>Male</td>\n",
              "      <td>35</td>\n",
              "      <td>20000</td>\n",
              "      <td>0</td>\n",
              "    </tr>\n",
              "    <tr>\n",
              "      <th>2</th>\n",
              "      <td>15668575</td>\n",
              "      <td>Female</td>\n",
              "      <td>26</td>\n",
              "      <td>43000</td>\n",
              "      <td>0</td>\n",
              "    </tr>\n",
              "    <tr>\n",
              "      <th>3</th>\n",
              "      <td>15603246</td>\n",
              "      <td>Female</td>\n",
              "      <td>27</td>\n",
              "      <td>57000</td>\n",
              "      <td>0</td>\n",
              "    </tr>\n",
              "    <tr>\n",
              "      <th>4</th>\n",
              "      <td>15804002</td>\n",
              "      <td>Male</td>\n",
              "      <td>19</td>\n",
              "      <td>76000</td>\n",
              "      <td>0</td>\n",
              "    </tr>\n",
              "    <tr>\n",
              "      <th>5</th>\n",
              "      <td>15728773</td>\n",
              "      <td>Male</td>\n",
              "      <td>27</td>\n",
              "      <td>58000</td>\n",
              "      <td>0</td>\n",
              "    </tr>\n",
              "    <tr>\n",
              "      <th>6</th>\n",
              "      <td>15598044</td>\n",
              "      <td>Female</td>\n",
              "      <td>27</td>\n",
              "      <td>84000</td>\n",
              "      <td>0</td>\n",
              "    </tr>\n",
              "    <tr>\n",
              "      <th>7</th>\n",
              "      <td>15694829</td>\n",
              "      <td>Female</td>\n",
              "      <td>32</td>\n",
              "      <td>150000</td>\n",
              "      <td>1</td>\n",
              "    </tr>\n",
              "    <tr>\n",
              "      <th>8</th>\n",
              "      <td>15600575</td>\n",
              "      <td>Male</td>\n",
              "      <td>25</td>\n",
              "      <td>33000</td>\n",
              "      <td>0</td>\n",
              "    </tr>\n",
              "    <tr>\n",
              "      <th>9</th>\n",
              "      <td>15727311</td>\n",
              "      <td>Female</td>\n",
              "      <td>35</td>\n",
              "      <td>65000</td>\n",
              "      <td>0</td>\n",
              "    </tr>\n",
              "  </tbody>\n",
              "</table>\n",
              "</div>\n",
              "      <button class=\"colab-df-convert\" onclick=\"convertToInteractive('df-3c88d4b4-2c7d-49a8-957b-431163064829')\"\n",
              "              title=\"Convert this dataframe to an interactive table.\"\n",
              "              style=\"display:none;\">\n",
              "        \n",
              "  <svg xmlns=\"http://www.w3.org/2000/svg\" height=\"24px\"viewBox=\"0 0 24 24\"\n",
              "       width=\"24px\">\n",
              "    <path d=\"M0 0h24v24H0V0z\" fill=\"none\"/>\n",
              "    <path d=\"M18.56 5.44l.94 2.06.94-2.06 2.06-.94-2.06-.94-.94-2.06-.94 2.06-2.06.94zm-11 1L8.5 8.5l.94-2.06 2.06-.94-2.06-.94L8.5 2.5l-.94 2.06-2.06.94zm10 10l.94 2.06.94-2.06 2.06-.94-2.06-.94-.94-2.06-.94 2.06-2.06.94z\"/><path d=\"M17.41 7.96l-1.37-1.37c-.4-.4-.92-.59-1.43-.59-.52 0-1.04.2-1.43.59L10.3 9.45l-7.72 7.72c-.78.78-.78 2.05 0 2.83L4 21.41c.39.39.9.59 1.41.59.51 0 1.02-.2 1.41-.59l7.78-7.78 2.81-2.81c.8-.78.8-2.07 0-2.86zM5.41 20L4 18.59l7.72-7.72 1.47 1.35L5.41 20z\"/>\n",
              "  </svg>\n",
              "      </button>\n",
              "      \n",
              "  <style>\n",
              "    .colab-df-container {\n",
              "      display:flex;\n",
              "      flex-wrap:wrap;\n",
              "      gap: 12px;\n",
              "    }\n",
              "\n",
              "    .colab-df-convert {\n",
              "      background-color: #E8F0FE;\n",
              "      border: none;\n",
              "      border-radius: 50%;\n",
              "      cursor: pointer;\n",
              "      display: none;\n",
              "      fill: #1967D2;\n",
              "      height: 32px;\n",
              "      padding: 0 0 0 0;\n",
              "      width: 32px;\n",
              "    }\n",
              "\n",
              "    .colab-df-convert:hover {\n",
              "      background-color: #E2EBFA;\n",
              "      box-shadow: 0px 1px 2px rgba(60, 64, 67, 0.3), 0px 1px 3px 1px rgba(60, 64, 67, 0.15);\n",
              "      fill: #174EA6;\n",
              "    }\n",
              "\n",
              "    [theme=dark] .colab-df-convert {\n",
              "      background-color: #3B4455;\n",
              "      fill: #D2E3FC;\n",
              "    }\n",
              "\n",
              "    [theme=dark] .colab-df-convert:hover {\n",
              "      background-color: #434B5C;\n",
              "      box-shadow: 0px 1px 3px 1px rgba(0, 0, 0, 0.15);\n",
              "      filter: drop-shadow(0px 1px 2px rgba(0, 0, 0, 0.3));\n",
              "      fill: #FFFFFF;\n",
              "    }\n",
              "  </style>\n",
              "\n",
              "      <script>\n",
              "        const buttonEl =\n",
              "          document.querySelector('#df-3c88d4b4-2c7d-49a8-957b-431163064829 button.colab-df-convert');\n",
              "        buttonEl.style.display =\n",
              "          google.colab.kernel.accessAllowed ? 'block' : 'none';\n",
              "\n",
              "        async function convertToInteractive(key) {\n",
              "          const element = document.querySelector('#df-3c88d4b4-2c7d-49a8-957b-431163064829');\n",
              "          const dataTable =\n",
              "            await google.colab.kernel.invokeFunction('convertToInteractive',\n",
              "                                                     [key], {});\n",
              "          if (!dataTable) return;\n",
              "\n",
              "          const docLinkHtml = 'Like what you see? Visit the ' +\n",
              "            '<a target=\"_blank\" href=https://colab.research.google.com/notebooks/data_table.ipynb>data table notebook</a>'\n",
              "            + ' to learn more about interactive tables.';\n",
              "          element.innerHTML = '';\n",
              "          dataTable['output_type'] = 'display_data';\n",
              "          await google.colab.output.renderOutput(dataTable, element);\n",
              "          const docLink = document.createElement('div');\n",
              "          docLink.innerHTML = docLinkHtml;\n",
              "          element.appendChild(docLink);\n",
              "        }\n",
              "      </script>\n",
              "    </div>\n",
              "  </div>\n",
              "  "
            ]
          },
          "metadata": {},
          "execution_count": 8
        }
      ]
    },
    {
      "cell_type": "code",
      "source": [
        "#conjunto de estatísticas descritivas dessas duas variáveis: a quantidade de valores, a média, o desvio padrão, o valor mínimo, os quartis da distribuição e o valor máximo\n",
        "dataset.describe()"
      ],
      "metadata": {
        "colab": {
          "base_uri": "https://localhost:8080/",
          "height": 300
        },
        "id": "_YNtVBf-_hcy",
        "outputId": "15b78b3a-d437-4634-bf5d-77881ed35776"
      },
      "execution_count": 10,
      "outputs": [
        {
          "output_type": "execute_result",
          "data": {
            "text/plain": [
              "            User ID         Age  EstimatedSalary   Purchased\n",
              "count  4.000000e+02  400.000000       400.000000  400.000000\n",
              "mean   1.569154e+07   37.655000     69742.500000    0.357500\n",
              "std    7.165832e+04   10.482877     34096.960282    0.479864\n",
              "min    1.556669e+07   18.000000     15000.000000    0.000000\n",
              "25%    1.562676e+07   29.750000     43000.000000    0.000000\n",
              "50%    1.569434e+07   37.000000     70000.000000    0.000000\n",
              "75%    1.575036e+07   46.000000     88000.000000    1.000000\n",
              "max    1.581524e+07   60.000000    150000.000000    1.000000"
            ],
            "text/html": [
              "\n",
              "  <div id=\"df-7f264ebd-a715-425b-ac67-44aabf94bd45\">\n",
              "    <div class=\"colab-df-container\">\n",
              "      <div>\n",
              "<style scoped>\n",
              "    .dataframe tbody tr th:only-of-type {\n",
              "        vertical-align: middle;\n",
              "    }\n",
              "\n",
              "    .dataframe tbody tr th {\n",
              "        vertical-align: top;\n",
              "    }\n",
              "\n",
              "    .dataframe thead th {\n",
              "        text-align: right;\n",
              "    }\n",
              "</style>\n",
              "<table border=\"1\" class=\"dataframe\">\n",
              "  <thead>\n",
              "    <tr style=\"text-align: right;\">\n",
              "      <th></th>\n",
              "      <th>User ID</th>\n",
              "      <th>Age</th>\n",
              "      <th>EstimatedSalary</th>\n",
              "      <th>Purchased</th>\n",
              "    </tr>\n",
              "  </thead>\n",
              "  <tbody>\n",
              "    <tr>\n",
              "      <th>count</th>\n",
              "      <td>4.000000e+02</td>\n",
              "      <td>400.000000</td>\n",
              "      <td>400.000000</td>\n",
              "      <td>400.000000</td>\n",
              "    </tr>\n",
              "    <tr>\n",
              "      <th>mean</th>\n",
              "      <td>1.569154e+07</td>\n",
              "      <td>37.655000</td>\n",
              "      <td>69742.500000</td>\n",
              "      <td>0.357500</td>\n",
              "    </tr>\n",
              "    <tr>\n",
              "      <th>std</th>\n",
              "      <td>7.165832e+04</td>\n",
              "      <td>10.482877</td>\n",
              "      <td>34096.960282</td>\n",
              "      <td>0.479864</td>\n",
              "    </tr>\n",
              "    <tr>\n",
              "      <th>min</th>\n",
              "      <td>1.556669e+07</td>\n",
              "      <td>18.000000</td>\n",
              "      <td>15000.000000</td>\n",
              "      <td>0.000000</td>\n",
              "    </tr>\n",
              "    <tr>\n",
              "      <th>25%</th>\n",
              "      <td>1.562676e+07</td>\n",
              "      <td>29.750000</td>\n",
              "      <td>43000.000000</td>\n",
              "      <td>0.000000</td>\n",
              "    </tr>\n",
              "    <tr>\n",
              "      <th>50%</th>\n",
              "      <td>1.569434e+07</td>\n",
              "      <td>37.000000</td>\n",
              "      <td>70000.000000</td>\n",
              "      <td>0.000000</td>\n",
              "    </tr>\n",
              "    <tr>\n",
              "      <th>75%</th>\n",
              "      <td>1.575036e+07</td>\n",
              "      <td>46.000000</td>\n",
              "      <td>88000.000000</td>\n",
              "      <td>1.000000</td>\n",
              "    </tr>\n",
              "    <tr>\n",
              "      <th>max</th>\n",
              "      <td>1.581524e+07</td>\n",
              "      <td>60.000000</td>\n",
              "      <td>150000.000000</td>\n",
              "      <td>1.000000</td>\n",
              "    </tr>\n",
              "  </tbody>\n",
              "</table>\n",
              "</div>\n",
              "      <button class=\"colab-df-convert\" onclick=\"convertToInteractive('df-7f264ebd-a715-425b-ac67-44aabf94bd45')\"\n",
              "              title=\"Convert this dataframe to an interactive table.\"\n",
              "              style=\"display:none;\">\n",
              "        \n",
              "  <svg xmlns=\"http://www.w3.org/2000/svg\" height=\"24px\"viewBox=\"0 0 24 24\"\n",
              "       width=\"24px\">\n",
              "    <path d=\"M0 0h24v24H0V0z\" fill=\"none\"/>\n",
              "    <path d=\"M18.56 5.44l.94 2.06.94-2.06 2.06-.94-2.06-.94-.94-2.06-.94 2.06-2.06.94zm-11 1L8.5 8.5l.94-2.06 2.06-.94-2.06-.94L8.5 2.5l-.94 2.06-2.06.94zm10 10l.94 2.06.94-2.06 2.06-.94-2.06-.94-.94-2.06-.94 2.06-2.06.94z\"/><path d=\"M17.41 7.96l-1.37-1.37c-.4-.4-.92-.59-1.43-.59-.52 0-1.04.2-1.43.59L10.3 9.45l-7.72 7.72c-.78.78-.78 2.05 0 2.83L4 21.41c.39.39.9.59 1.41.59.51 0 1.02-.2 1.41-.59l7.78-7.78 2.81-2.81c.8-.78.8-2.07 0-2.86zM5.41 20L4 18.59l7.72-7.72 1.47 1.35L5.41 20z\"/>\n",
              "  </svg>\n",
              "      </button>\n",
              "      \n",
              "  <style>\n",
              "    .colab-df-container {\n",
              "      display:flex;\n",
              "      flex-wrap:wrap;\n",
              "      gap: 12px;\n",
              "    }\n",
              "\n",
              "    .colab-df-convert {\n",
              "      background-color: #E8F0FE;\n",
              "      border: none;\n",
              "      border-radius: 50%;\n",
              "      cursor: pointer;\n",
              "      display: none;\n",
              "      fill: #1967D2;\n",
              "      height: 32px;\n",
              "      padding: 0 0 0 0;\n",
              "      width: 32px;\n",
              "    }\n",
              "\n",
              "    .colab-df-convert:hover {\n",
              "      background-color: #E2EBFA;\n",
              "      box-shadow: 0px 1px 2px rgba(60, 64, 67, 0.3), 0px 1px 3px 1px rgba(60, 64, 67, 0.15);\n",
              "      fill: #174EA6;\n",
              "    }\n",
              "\n",
              "    [theme=dark] .colab-df-convert {\n",
              "      background-color: #3B4455;\n",
              "      fill: #D2E3FC;\n",
              "    }\n",
              "\n",
              "    [theme=dark] .colab-df-convert:hover {\n",
              "      background-color: #434B5C;\n",
              "      box-shadow: 0px 1px 3px 1px rgba(0, 0, 0, 0.15);\n",
              "      filter: drop-shadow(0px 1px 2px rgba(0, 0, 0, 0.3));\n",
              "      fill: #FFFFFF;\n",
              "    }\n",
              "  </style>\n",
              "\n",
              "      <script>\n",
              "        const buttonEl =\n",
              "          document.querySelector('#df-7f264ebd-a715-425b-ac67-44aabf94bd45 button.colab-df-convert');\n",
              "        buttonEl.style.display =\n",
              "          google.colab.kernel.accessAllowed ? 'block' : 'none';\n",
              "\n",
              "        async function convertToInteractive(key) {\n",
              "          const element = document.querySelector('#df-7f264ebd-a715-425b-ac67-44aabf94bd45');\n",
              "          const dataTable =\n",
              "            await google.colab.kernel.invokeFunction('convertToInteractive',\n",
              "                                                     [key], {});\n",
              "          if (!dataTable) return;\n",
              "\n",
              "          const docLinkHtml = 'Like what you see? Visit the ' +\n",
              "            '<a target=\"_blank\" href=https://colab.research.google.com/notebooks/data_table.ipynb>data table notebook</a>'\n",
              "            + ' to learn more about interactive tables.';\n",
              "          element.innerHTML = '';\n",
              "          dataTable['output_type'] = 'display_data';\n",
              "          await google.colab.output.renderOutput(dataTable, element);\n",
              "          const docLink = document.createElement('div');\n",
              "          docLink.innerHTML = docLinkHtml;\n",
              "          element.appendChild(docLink);\n",
              "        }\n",
              "      </script>\n",
              "    </div>\n",
              "  </div>\n",
              "  "
            ]
          },
          "metadata": {},
          "execution_count": 10
        }
      ]
    },
    {
      "cell_type": "code",
      "source": [
        "#Escolho os meus atributos nesse caso idade e salario\n",
        "X = dataset.loc[:,['Age','EstimatedSalary']].values\n",
        "y = dataset['Purchased'].values\n",
        "\n",
        "print(X[0:6,:])"
      ],
      "metadata": {
        "colab": {
          "base_uri": "https://localhost:8080/"
        },
        "id": "TtyGjDEzAUvL",
        "outputId": "412011a1-e3ab-4f56-b5d7-c7bee9bb830d"
      },
      "execution_count": 12,
      "outputs": [
        {
          "output_type": "stream",
          "name": "stdout",
          "text": [
            "[[   19 19000]\n",
            " [   35 20000]\n",
            " [   26 43000]\n",
            " [   27 57000]\n",
            " [   19 76000]\n",
            " [   27 58000]]\n"
          ]
        }
      ]
    },
    {
      "cell_type": "code",
      "source": [
        "#separo entre conjuntos de treinamento ou conjuntos de teste\n",
        "from sklearn.model_selection import train_test_split\n",
        "X_train, X_test, y_train, y_test = train_test_split(X, y, test_size = 0.25, random_state = 0)"
      ],
      "metadata": {
        "id": "ocFIFYGGAohY"
      },
      "execution_count": 13,
      "outputs": []
    },
    {
      "cell_type": "code",
      "source": [
        "#Parte da Normalização dos Dados\n",
        "from sklearn.preprocessing import MinMaxScaler\n",
        "sc = MinMaxScaler()\n",
        "X_train = sc.fit_transform(X_train)\n",
        "\n",
        "X_test = sc.transform(X_test)"
      ],
      "metadata": {
        "id": "IM8b1nkuAzy8"
      },
      "execution_count": 14,
      "outputs": []
    },
    {
      "cell_type": "code",
      "source": [
        "#Agora os primeiros passos para procequir para o treinamento da rede\n",
        "import tensorflow as tf\n",
        "\n",
        "# Inicialização \n",
        "classifier = tf.keras.models.Sequential()\n",
        "\n",
        "# Adicionando a camada de entrada e a primeira camada escondida  \n",
        "classifier.add( tf.keras.layers.Dense( activation = 'relu', input_dim = 2, units = 4, kernel_initializer = 'uniform'))\n",
        "\n",
        "# Adicionando a camada de saída \n",
        "classifier.add( tf.keras.layers.Dense( activation = 'sigmoid', units = 1, kernel_initializer = 'uniform'))"
      ],
      "metadata": {
        "id": "S5z-aXctBDdL"
      },
      "execution_count": 15,
      "outputs": []
    },
    {
      "cell_type": "code",
      "source": [
        "# Montando a Rede\n",
        "#Otimização -> Adam: SGD com taxa de aprendizagem adaptativa e momento (Kingma, Diederick & Jimmy, 2014)\n",
        "classifier.compile(optimizer = 'adam', loss = 'binary_crossentropy', metrics = ['accuracy'])"
      ],
      "metadata": {
        "id": "l2InRbaDBfVj"
      },
      "execution_count": 17,
      "outputs": []
    },
    {
      "cell_type": "code",
      "source": [
        "#Treinando teremos o total de 81 épocas, ou seja o backpropagation sera executado 81 vezes.\n",
        "classifier.fit(X_train, y_train, batch_size = 1, epochs = 81)"
      ],
      "metadata": {
        "colab": {
          "base_uri": "https://localhost:8080/"
        },
        "id": "lz3kLZn7BkPm",
        "outputId": "75f397bc-401a-4bb6-a21d-1a63d64ccd14"
      },
      "execution_count": 18,
      "outputs": [
        {
          "output_type": "stream",
          "name": "stdout",
          "text": [
            "Epoch 1/81\n",
            "300/300 [==============================] - 1s 2ms/step - loss: 0.6886 - accuracy: 0.6200\n",
            "Epoch 2/81\n",
            "300/300 [==============================] - 1s 2ms/step - loss: 0.6794 - accuracy: 0.6300\n",
            "Epoch 3/81\n",
            "300/300 [==============================] - 1s 2ms/step - loss: 0.6712 - accuracy: 0.6300\n",
            "Epoch 4/81\n",
            "300/300 [==============================] - 1s 2ms/step - loss: 0.6640 - accuracy: 0.6300\n",
            "Epoch 5/81\n",
            "300/300 [==============================] - 1s 2ms/step - loss: 0.6574 - accuracy: 0.6300\n",
            "Epoch 6/81\n",
            "300/300 [==============================] - 1s 2ms/step - loss: 0.6503 - accuracy: 0.6300\n",
            "Epoch 7/81\n",
            "300/300 [==============================] - 1s 2ms/step - loss: 0.6429 - accuracy: 0.6300\n",
            "Epoch 8/81\n",
            "300/300 [==============================] - 1s 2ms/step - loss: 0.6356 - accuracy: 0.6300\n",
            "Epoch 9/81\n",
            "300/300 [==============================] - 1s 2ms/step - loss: 0.6281 - accuracy: 0.6300\n",
            "Epoch 10/81\n",
            "300/300 [==============================] - 1s 2ms/step - loss: 0.6205 - accuracy: 0.6300\n",
            "Epoch 11/81\n",
            "300/300 [==============================] - 1s 2ms/step - loss: 0.6129 - accuracy: 0.6300\n",
            "Epoch 12/81\n",
            "300/300 [==============================] - 1s 2ms/step - loss: 0.6052 - accuracy: 0.6300\n",
            "Epoch 13/81\n",
            "300/300 [==============================] - 0s 2ms/step - loss: 0.5978 - accuracy: 0.6300\n",
            "Epoch 14/81\n",
            "300/300 [==============================] - 1s 2ms/step - loss: 0.5900 - accuracy: 0.6300\n",
            "Epoch 15/81\n",
            "300/300 [==============================] - 1s 2ms/step - loss: 0.5823 - accuracy: 0.6300\n",
            "Epoch 16/81\n",
            "300/300 [==============================] - 1s 2ms/step - loss: 0.5751 - accuracy: 0.6300\n",
            "Epoch 17/81\n",
            "300/300 [==============================] - 1s 2ms/step - loss: 0.5680 - accuracy: 0.6300\n",
            "Epoch 18/81\n",
            "300/300 [==============================] - 1s 2ms/step - loss: 0.5604 - accuracy: 0.6300\n",
            "Epoch 19/81\n",
            "300/300 [==============================] - 0s 2ms/step - loss: 0.5534 - accuracy: 0.6300\n",
            "Epoch 20/81\n",
            "300/300 [==============================] - 0s 2ms/step - loss: 0.5463 - accuracy: 0.6300\n",
            "Epoch 21/81\n",
            "300/300 [==============================] - 1s 2ms/step - loss: 0.5392 - accuracy: 0.6300\n",
            "Epoch 22/81\n",
            "300/300 [==============================] - 0s 2ms/step - loss: 0.5326 - accuracy: 0.6300\n",
            "Epoch 23/81\n",
            "300/300 [==============================] - 0s 2ms/step - loss: 0.5256 - accuracy: 0.6300\n",
            "Epoch 24/81\n",
            "300/300 [==============================] - 1s 2ms/step - loss: 0.5198 - accuracy: 0.6300\n",
            "Epoch 25/81\n",
            "300/300 [==============================] - 0s 2ms/step - loss: 0.5137 - accuracy: 0.7033\n",
            "Epoch 26/81\n",
            "300/300 [==============================] - 1s 2ms/step - loss: 0.5070 - accuracy: 0.7567\n",
            "Epoch 27/81\n",
            "300/300 [==============================] - 0s 2ms/step - loss: 0.5020 - accuracy: 0.7667\n",
            "Epoch 28/81\n",
            "300/300 [==============================] - 0s 2ms/step - loss: 0.4956 - accuracy: 0.7633\n",
            "Epoch 29/81\n",
            "300/300 [==============================] - 1s 2ms/step - loss: 0.4902 - accuracy: 0.7700\n",
            "Epoch 30/81\n",
            "300/300 [==============================] - 0s 2ms/step - loss: 0.4845 - accuracy: 0.7700\n",
            "Epoch 31/81\n",
            "300/300 [==============================] - 1s 2ms/step - loss: 0.4787 - accuracy: 0.7833\n",
            "Epoch 32/81\n",
            "300/300 [==============================] - 1s 3ms/step - loss: 0.4742 - accuracy: 0.7867\n",
            "Epoch 33/81\n",
            "300/300 [==============================] - 1s 2ms/step - loss: 0.4700 - accuracy: 0.7833\n",
            "Epoch 34/81\n",
            "300/300 [==============================] - 1s 2ms/step - loss: 0.4643 - accuracy: 0.7867\n",
            "Epoch 35/81\n",
            "300/300 [==============================] - 1s 2ms/step - loss: 0.4598 - accuracy: 0.7833\n",
            "Epoch 36/81\n",
            "300/300 [==============================] - 1s 2ms/step - loss: 0.4556 - accuracy: 0.7867\n",
            "Epoch 37/81\n",
            "300/300 [==============================] - 1s 2ms/step - loss: 0.4510 - accuracy: 0.7933\n",
            "Epoch 38/81\n",
            "300/300 [==============================] - 0s 2ms/step - loss: 0.4474 - accuracy: 0.8000\n",
            "Epoch 39/81\n",
            "300/300 [==============================] - 1s 2ms/step - loss: 0.4439 - accuracy: 0.8033\n",
            "Epoch 40/81\n",
            "300/300 [==============================] - 1s 2ms/step - loss: 0.4396 - accuracy: 0.7900\n",
            "Epoch 41/81\n",
            "300/300 [==============================] - 1s 2ms/step - loss: 0.4364 - accuracy: 0.7967\n",
            "Epoch 42/81\n",
            "300/300 [==============================] - 1s 2ms/step - loss: 0.4328 - accuracy: 0.8033\n",
            "Epoch 43/81\n",
            "300/300 [==============================] - 0s 2ms/step - loss: 0.4300 - accuracy: 0.8000\n",
            "Epoch 44/81\n",
            "300/300 [==============================] - 1s 2ms/step - loss: 0.4264 - accuracy: 0.8000\n",
            "Epoch 45/81\n",
            "300/300 [==============================] - 0s 2ms/step - loss: 0.4237 - accuracy: 0.7900\n",
            "Epoch 46/81\n",
            "300/300 [==============================] - 1s 2ms/step - loss: 0.4210 - accuracy: 0.8133\n",
            "Epoch 47/81\n",
            "300/300 [==============================] - 1s 2ms/step - loss: 0.4186 - accuracy: 0.8033\n",
            "Epoch 48/81\n",
            "300/300 [==============================] - 0s 2ms/step - loss: 0.4162 - accuracy: 0.8100\n",
            "Epoch 49/81\n",
            "300/300 [==============================] - 1s 2ms/step - loss: 0.4134 - accuracy: 0.8100\n",
            "Epoch 50/81\n",
            "300/300 [==============================] - 0s 2ms/step - loss: 0.4110 - accuracy: 0.8100\n",
            "Epoch 51/81\n",
            "300/300 [==============================] - 0s 2ms/step - loss: 0.4086 - accuracy: 0.8100\n",
            "Epoch 52/81\n",
            "300/300 [==============================] - 0s 2ms/step - loss: 0.4063 - accuracy: 0.8133\n",
            "Epoch 53/81\n",
            "300/300 [==============================] - 0s 2ms/step - loss: 0.4040 - accuracy: 0.8267\n",
            "Epoch 54/81\n",
            "300/300 [==============================] - 1s 2ms/step - loss: 0.4029 - accuracy: 0.8167\n",
            "Epoch 55/81\n",
            "300/300 [==============================] - 0s 2ms/step - loss: 0.4000 - accuracy: 0.8200\n",
            "Epoch 56/81\n",
            "300/300 [==============================] - 1s 2ms/step - loss: 0.3988 - accuracy: 0.8267\n",
            "Epoch 57/81\n",
            "300/300 [==============================] - 1s 3ms/step - loss: 0.3975 - accuracy: 0.8200\n",
            "Epoch 58/81\n",
            "300/300 [==============================] - 1s 2ms/step - loss: 0.3953 - accuracy: 0.8233\n",
            "Epoch 59/81\n",
            "300/300 [==============================] - 1s 2ms/step - loss: 0.3935 - accuracy: 0.8267\n",
            "Epoch 60/81\n",
            "300/300 [==============================] - 1s 2ms/step - loss: 0.3928 - accuracy: 0.8200\n",
            "Epoch 61/81\n",
            "300/300 [==============================] - 1s 2ms/step - loss: 0.3906 - accuracy: 0.8300\n",
            "Epoch 62/81\n",
            "300/300 [==============================] - 1s 2ms/step - loss: 0.3901 - accuracy: 0.8267\n",
            "Epoch 63/81\n",
            "300/300 [==============================] - 1s 2ms/step - loss: 0.3887 - accuracy: 0.8267\n",
            "Epoch 64/81\n",
            "300/300 [==============================] - 0s 2ms/step - loss: 0.3869 - accuracy: 0.8267\n",
            "Epoch 65/81\n",
            "300/300 [==============================] - 1s 2ms/step - loss: 0.3855 - accuracy: 0.8200\n",
            "Epoch 66/81\n",
            "300/300 [==============================] - 1s 2ms/step - loss: 0.3844 - accuracy: 0.8267\n",
            "Epoch 67/81\n",
            "300/300 [==============================] - 1s 2ms/step - loss: 0.3834 - accuracy: 0.8300\n",
            "Epoch 68/81\n",
            "300/300 [==============================] - 1s 2ms/step - loss: 0.3816 - accuracy: 0.8133\n",
            "Epoch 69/81\n",
            "300/300 [==============================] - 1s 2ms/step - loss: 0.3815 - accuracy: 0.8200\n",
            "Epoch 70/81\n",
            "300/300 [==============================] - 0s 2ms/step - loss: 0.3808 - accuracy: 0.8267\n",
            "Epoch 71/81\n",
            "300/300 [==============================] - 0s 2ms/step - loss: 0.3796 - accuracy: 0.8233\n",
            "Epoch 72/81\n",
            "300/300 [==============================] - 1s 2ms/step - loss: 0.3785 - accuracy: 0.8233\n",
            "Epoch 73/81\n",
            "300/300 [==============================] - 1s 2ms/step - loss: 0.3778 - accuracy: 0.8233\n",
            "Epoch 74/81\n",
            "300/300 [==============================] - 1s 2ms/step - loss: 0.3767 - accuracy: 0.8267\n",
            "Epoch 75/81\n",
            "300/300 [==============================] - 0s 2ms/step - loss: 0.3759 - accuracy: 0.8233\n",
            "Epoch 76/81\n",
            "300/300 [==============================] - 0s 2ms/step - loss: 0.3750 - accuracy: 0.8233\n",
            "Epoch 77/81\n",
            "300/300 [==============================] - 0s 2ms/step - loss: 0.3746 - accuracy: 0.8267\n",
            "Epoch 78/81\n",
            "300/300 [==============================] - 0s 2ms/step - loss: 0.3733 - accuracy: 0.8267\n",
            "Epoch 79/81\n",
            "300/300 [==============================] - 1s 2ms/step - loss: 0.3733 - accuracy: 0.8233\n",
            "Epoch 80/81\n",
            "300/300 [==============================] - 0s 2ms/step - loss: 0.3730 - accuracy: 0.8233\n",
            "Epoch 81/81\n",
            "300/300 [==============================] - 1s 2ms/step - loss: 0.3722 - accuracy: 0.8267\n"
          ]
        },
        {
          "output_type": "execute_result",
          "data": {
            "text/plain": [
              "<keras.callbacks.History at 0x7f8d003776a0>"
            ]
          },
          "metadata": {},
          "execution_count": 18
        }
      ]
    },
    {
      "cell_type": "code",
      "source": [
        "#Agora avaliamos o nosso modelo\n",
        "y_pred = classifier.predict(X_test)\n",
        "\n",
        "print(y_test[0:35])\n",
        "print(y_pred[0:35])"
      ],
      "metadata": {
        "colab": {
          "base_uri": "https://localhost:8080/"
        },
        "id": "fy7_G5cIDAma",
        "outputId": "bcc12330-381b-46b4-f912-4ad6b18d5440"
      },
      "execution_count": 19,
      "outputs": [
        {
          "output_type": "stream",
          "name": "stdout",
          "text": [
            "4/4 [==============================] - 0s 3ms/step\n",
            "[0 0 0 0 0 0 0 1 0 0 0 0 0 0 0 0 0 0 1 0 0 1 0 1 0 1 0 0 0 0 0 1 1 0 0]\n",
            "[[0.12846386]\n",
            " [0.17854467]\n",
            " [0.2173465 ]\n",
            " [0.1001509 ]\n",
            " [0.10348107]\n",
            " [0.00738886]\n",
            " [0.01431407]\n",
            " [0.7813001 ]\n",
            " [0.00597956]\n",
            " [0.53161204]\n",
            " [0.03736036]\n",
            " [0.03046336]\n",
            " [0.17341487]\n",
            " [0.40924045]\n",
            " [0.01696705]\n",
            " [0.39194083]\n",
            " [0.312376  ]\n",
            " [0.01331512]\n",
            " [0.7813001 ]\n",
            " [0.04139112]\n",
            " [0.09410752]\n",
            " [0.7813001 ]\n",
            " [0.29770958]\n",
            " [0.7813001 ]\n",
            " [0.00422172]\n",
            " [0.7813001 ]\n",
            " [0.08814176]\n",
            " [0.08538011]\n",
            " [0.21151884]\n",
            " [0.178316  ]\n",
            " [0.02235339]\n",
            " [0.32765734]\n",
            " [0.7813001 ]\n",
            " [0.16357702]\n",
            " [0.01479154]]\n"
          ]
        }
      ]
    },
    {
      "cell_type": "code",
      "source": [
        "y_pred_bin = [ ( 1 if elem > 0.5 else 0) for elem in y_pred ] "
      ],
      "metadata": {
        "id": "11hn-4i9DT2i"
      },
      "execution_count": 20,
      "outputs": []
    },
    {
      "cell_type": "code",
      "source": [
        "import numpy as np\n",
        "\n",
        "y_pred_bin =  np.array(y_pred_bin)"
      ],
      "metadata": {
        "id": "4hgVk8axDVIp"
      },
      "execution_count": 21,
      "outputs": []
    },
    {
      "cell_type": "code",
      "source": [
        "print(y_test[0:35])\n",
        "print(y_pred_bin[0:35])"
      ],
      "metadata": {
        "colab": {
          "base_uri": "https://localhost:8080/"
        },
        "id": "5LHJVoaRDaCB",
        "outputId": "eed46ece-5417-4546-b2db-88649cab62c0"
      },
      "execution_count": 22,
      "outputs": [
        {
          "output_type": "stream",
          "name": "stdout",
          "text": [
            "[0 0 0 0 0 0 0 1 0 0 0 0 0 0 0 0 0 0 1 0 0 1 0 1 0 1 0 0 0 0 0 1 1 0 0]\n",
            "[0 0 0 0 0 0 0 1 0 1 0 0 0 0 0 0 0 0 1 0 0 1 0 1 0 1 0 0 0 0 0 0 1 0 0]\n"
          ]
        }
      ]
    },
    {
      "cell_type": "code",
      "source": [
        "from sklearn.metrics import accuracy_score\n",
        "\n",
        "print(\"Acurácia/Desempenho: \", accuracy_score(y_test,y_pred_bin)*100, \"%\"  )"
      ],
      "metadata": {
        "colab": {
          "base_uri": "https://localhost:8080/"
        },
        "id": "EV7YyNQSDhBm",
        "outputId": "5c3a3fc2-4130-4c9a-a8f1-56ac40dc103c"
      },
      "execution_count": 23,
      "outputs": [
        {
          "output_type": "stream",
          "name": "stdout",
          "text": [
            "Acurácia/Desempenho:  89.0 %\n"
          ]
        }
      ]
    },
    {
      "cell_type": "code",
      "source": [
        "from sklearn.metrics import confusion_matrix\n",
        "cm = confusion_matrix(y_test, y_pred_bin)\n",
        "print(\"Matrix de confusão: \")\n",
        "print(cm)\n"
      ],
      "metadata": {
        "colab": {
          "base_uri": "https://localhost:8080/"
        },
        "id": "BLkmXtIcDxv1",
        "outputId": "0ca1c66d-3ce4-48b8-f8cb-c50a4c9d967d"
      },
      "execution_count": 24,
      "outputs": [
        {
          "output_type": "stream",
          "name": "stdout",
          "text": [
            "Matrix de confusão: \n",
            "[[64  4]\n",
            " [ 7 25]]\n"
          ]
        }
      ]
    },
    {
      "cell_type": "code",
      "source": [
        "#Visualização dos Dados\n",
        "import matplotlib.pyplot as plt\n",
        "\n",
        "# Seleção dos elementos que foram classificados como negativos (não compra)\n",
        "age_neg = X_train[y_train == 0, 0]\n",
        "salary_neg = X_train[y_train == 0, 1]\n",
        "age_pos = X_train[y_train == 1, 0]\n",
        "salary_pos = X_train[y_train == 1, 1]\n",
        "\n",
        "plt.scatter(age_pos,salary_pos, color='green', label = 'Comprar')\n",
        "plt.scatter(age_neg,salary_neg, color='red', label = 'Não Comprar')\n",
        "\n",
        "plt.title('SVM - Conjunto de Treinamento')\n",
        "plt.xlabel('Idade')\n",
        "plt.ylabel('Salário Estimado')\n",
        "plt.legend()\n",
        "plt.show()"
      ],
      "metadata": {
        "colab": {
          "base_uri": "https://localhost:8080/",
          "height": 295
        },
        "id": "EIN2c4gpD339",
        "outputId": "0f0ac5aa-57b3-405f-9a08-a7bc03792801"
      },
      "execution_count": 27,
      "outputs": [
        {
          "output_type": "display_data",
          "data": {
            "text/plain": [
              "<Figure size 432x288 with 1 Axes>"
            ],
            "image/png": "[encoded data removed]"
          },
          "metadata": {
            "needs_background": "light"
          }
        }
      ]
    },
    {
      "cell_type": "code",
      "source": [
        "vx = np.arange(-0.1, 1.1, 0.025) \n",
        "vy = np.arange(-0.1, 1.1, 0.025)\n",
        "X1, X2 = np.meshgrid(vx,vy) \n",
        "\n",
        "y_pred_mesh =  classifier.predict(np.array([X1.ravel(),X2.ravel()]).T ).reshape(X1.shape)\n",
        "\n",
        "from matplotlib.colors import ListedColormap\n",
        "plt.contourf(X1,X2, y_pred_mesh, alpha  = 0.5, cmap = ListedColormap(('red','green')))"
      ],
      "metadata": {
        "colab": {
          "base_uri": "https://localhost:8080/",
          "height": 300
        },
        "id": "ItBHV6RvEuRf",
        "outputId": "2d243a28-398b-47e2-dabb-448884908ae6"
      },
      "execution_count": 29,
      "outputs": [
        {
          "output_type": "stream",
          "name": "stdout",
          "text": [
            "76/76 [==============================] - 0s 5ms/step\n"
          ]
        },
        {
          "output_type": "execute_result",
          "data": {
            "text/plain": [
              "<matplotlib.contour.QuadContourSet at 0x7f8cf9d36be0>"
            ]
          },
          "metadata": {},
          "execution_count": 29
        },
        {
          "output_type": "display_data",
          "data": {
            "text/plain": [
              "<Figure size 432x288 with 1 Axes>"
            ],
            "image/png": "[encoded data removed]"
          },
          "metadata": {
            "needs_background": "light"
          }
        }
      ]
    },
    {
      "cell_type": "code",
      "source": [
        "age_neg = X_test[y_test == 0, 0]\n",
        "salary_neg = X_test[y_test == 0, 1]\n",
        "age_pos = X_test[y_test == 1, 0]\n",
        "salary_pos = X_test[y_test == 1, 1]\n",
        "\n",
        "plt.contourf(X1,X2, y_pred_mesh, alpha  = 0.5, cmap = ListedColormap(('red','green')))\n",
        "\n",
        "plt.scatter(age_pos,salary_pos, color='green', label = 'Comprar')\n",
        "plt.scatter(age_neg,salary_neg, color='red', label = 'Não Comprar')\n",
        "\n",
        "plt.title('SVM - Conjunto de Treinamento')\n",
        "plt.xlabel('Idade')\n",
        "plt.ylabel('Salário Estimado')\n",
        "plt.legend()\n",
        "plt.show()"
      ],
      "metadata": {
        "colab": {
          "base_uri": "https://localhost:8080/",
          "height": 295
        },
        "id": "v-ZIlwtSE5Ft",
        "outputId": "9f6fa0bb-324e-41a0-9cd9-ebfc9a569de6"
      },
      "execution_count": 31,
      "outputs": [
        {
          "output_type": "display_data",
          "data": {
            "text/plain": [
              "<Figure size 432x288 with 1 Axes>"
            ],
            "image/png": "[encoded data removed]"
          },
          "metadata": {
            "needs_background": "light"
          }
        }
      ]
    },
    {
      "cell_type": "code",
      "source": [
        "y_pred_mesh[30:35,40:45]"
      ],
      "metadata": {
        "colab": {
          "base_uri": "https://localhost:8080/"
        },
        "id": "AT7eJQVLFNaL",
        "outputId": "5352ec9b-21bc-4544-fefa-7c9dfaa77304"
      },
      "execution_count": 32,
      "outputs": [
        {
          "output_type": "execute_result",
          "data": {
            "text/plain": [
              "array([[0.7813001, 0.7813001, 0.7813001, 0.7813001, 0.7813001],\n",
              "       [0.7813001, 0.7813001, 0.7813001, 0.7813001, 0.7813001],\n",
              "       [0.7813001, 0.7813001, 0.7813001, 0.7813001, 0.7813001],\n",
              "       [0.7813001, 0.7813001, 0.7813001, 0.7813001, 0.7813001],\n",
              "       [0.7813001, 0.7813001, 0.7813001, 0.7813001, 0.7813001]],\n",
              "      dtype=float32)"
            ]
          },
          "metadata": {},
          "execution_count": 32
        }
      ]
    }
  ]
}